{
  "nbformat": 4,
  "nbformat_minor": 0,
  "metadata": {
    "colab": {
      "provenance": [],
      "mount_file_id": "1JNmJ_fYaI4i9baWEK_afCGLq8V6TTVKj",
      "authorship_tag": "ABX9TyOdSv4hl1ol8gg8qFmtWVoX",
      "include_colab_link": true
    },
    "kernelspec": {
      "name": "python3",
      "display_name": "Python 3"
    },
    "language_info": {
      "name": "python"
    }
  },
  "cells": [
    {
      "cell_type": "markdown",
      "metadata": {
        "id": "view-in-github",
        "colab_type": "text"
      },
      "source": [
        "<a href=\"https://colab.research.google.com/github/Thayllan/Bootcamp-Santander-DIO.me/blob/main/scikit_learn.ipynb\" target=\"_parent\"><img src=\"https://colab.research.google.com/assets/colab-badge.svg\" alt=\"Open In Colab\"/></a>"
      ]
    },
    {
      "cell_type": "code",
      "execution_count": 3,
      "metadata": {
        "id": "CIObXx3DUCGo"
      },
      "outputs": [],
      "source": [
        "from sklearn.datasets import make_regression\n",
        "\n",
        "x,y = make_regression(n_samples=200, n_features=1, noise=30)"
      ]
    },
    {
      "cell_type": "code",
      "source": [
        "import matplotlib.pyplot as plt\n",
        "plt.scatter(x,y)\n",
        "plt.show()"
      ],
      "metadata": {
        "colab": {
          "base_uri": "https://localhost:8080/",
          "height": 265
        },
        "id": "vG36rKLZUgfC",
        "outputId": "bb01b683-a1f6-403d-e663-39ef63c293f3"
      },
      "execution_count": 4,
      "outputs": [
        {
          "output_type": "display_data",
          "data": {
            "text/plain": [
              "<Figure size 432x288 with 1 Axes>"
            ],
            "image/png": "[encoded data removed]"
          },
          "metadata": {
            "needs_background": "light"
          }
        }
      ]
    },
    {
      "cell_type": "code",
      "source": [
        "from sklearn.linear_model import LinearRegression"
      ],
      "metadata": {
        "id": "HfV6Gw0UUqgc"
      },
      "execution_count": 5,
      "outputs": []
    },
    {
      "cell_type": "code",
      "source": [
        "modelo = LinearRegression()"
      ],
      "metadata": {
        "id": "iD3lDZZWVJSD"
      },
      "execution_count": 6,
      "outputs": []
    },
    {
      "cell_type": "code",
      "source": [
        "lireg=LinearRegression().fit(x,y) # initialize & fit the model\n",
        "y_pred=lireg.predict(x) # now predict"
      ],
      "metadata": {
        "id": "_TKe6oGJXSTy"
      },
      "execution_count": 20,
      "outputs": []
    },
    {
      "cell_type": "code",
      "source": [
        "y_pred=lireg.predict(x)"
      ],
      "metadata": {
        "id": "f3kdSHb0XnqN"
      },
      "execution_count": 23,
      "outputs": []
    },
    {
      "cell_type": "code",
      "source": [
        "lireg.predict(x)"
      ],
      "metadata": {
        "colab": {
          "base_uri": "https://localhost:8080/"
        },
        "id": "x2jsrjIxYhdN",
        "outputId": "1d02e9e2-515d-40ae-9aa2-a7297e10d43b"
      },
      "execution_count": 25,
      "outputs": [
        {
          "output_type": "execute_result",
          "data": {
            "text/plain": [
              "array([ 2.31372620e+01,  2.01013207e+00,  2.13605850e+01,  3.19216550e+01,\n",
              "        2.22085709e+01, -9.72798039e+00,  5.16621606e+00, -2.66562885e+01,\n",
              "       -1.24938589e+02, -1.39421496e+02,  1.27389894e+02,  2.04723346e+01,\n",
              "        1.65997007e+02, -4.05898103e+00,  1.31945148e+02, -2.95259741e+01,\n",
              "        7.49041353e+01,  1.52538735e+01, -2.41939350e+01,  6.85359941e+01,\n",
              "        2.02387166e+01, -2.64530863e+01, -1.40380347e+02, -1.50564360e+02,\n",
              "        1.34829827e+02,  1.45626661e+02, -1.37581023e+02,  3.42370566e+00,\n",
              "        4.40698977e+01,  5.15322247e+01, -1.59894874e+02,  3.04704246e+00,\n",
              "       -8.58402580e+01,  6.96698237e+01,  7.80452948e+01, -6.96433371e+01,\n",
              "       -5.51549883e+01, -1.20614630e+02,  1.33935914e+01, -7.90450312e+01,\n",
              "       -2.46023713e+01, -9.26881853e+01,  8.49464196e+01,  4.96061515e+01,\n",
              "       -5.72074379e+01, -2.72943412e+01, -3.55974307e+01,  5.46625892e+01,\n",
              "        8.93664455e+01,  3.21930111e+01,  6.77083376e+01,  9.43848904e-01,\n",
              "       -1.91740817e+01, -6.59005397e+00,  2.25438058e+01, -2.07304430e+00,\n",
              "       -2.31997634e+02, -1.20684551e+01,  1.68648230e+02,  3.37962518e+01,\n",
              "        3.09807331e+01, -6.49128761e+01,  4.04008262e+01, -1.49619429e+02,\n",
              "        1.45327263e+02, -1.45991695e+02, -6.85642511e+01, -6.11946102e+01,\n",
              "        5.87129935e+01, -4.21695241e+01,  2.38009781e+01,  1.89586280e+02,\n",
              "       -5.64857364e+00, -1.21269272e+02, -4.39216267e+01,  7.35880701e+01,\n",
              "       -7.61966826e+01, -7.88974396e+01, -1.08897278e+02, -8.46295140e+01,\n",
              "        2.78802264e+01,  1.46620119e+01, -2.86903305e+01,  3.15048577e+01,\n",
              "        1.52320209e+02,  1.49085657e+01,  5.59236406e+00,  1.29923158e+02,\n",
              "       -4.07276814e+01,  1.17405650e+02,  3.39141684e+01, -1.76141755e+02,\n",
              "       -4.42129211e+01, -1.87247122e+02, -4.23796160e+01,  4.14515689e+01,\n",
              "       -5.02924874e+01,  1.37336046e+02, -6.12437777e+01, -3.15236996e+01,\n",
              "       -2.24991038e-01,  3.73949112e+01, -9.30140511e+00,  4.23834565e+01,\n",
              "        8.13414667e+01, -3.39834186e+01,  1.29145060e+02,  1.11344742e+02,\n",
              "        9.40168685e+01,  6.46432121e+01, -2.26757950e+02,  1.34972997e+01,\n",
              "       -1.78767759e+01, -7.28821470e+00,  2.29582058e+01, -8.74010795e+01,\n",
              "       -7.43479121e+00, -1.19732260e+02, -1.18286610e+02,  6.40595548e+01,\n",
              "       -8.97908404e+00,  8.99479025e+01,  9.30307529e+01, -6.17730383e+01,\n",
              "       -7.11749202e+01, -1.10490480e+02, -1.67808412e+02, -4.40298098e+01,\n",
              "        9.17654248e+01,  7.95806793e+01, -7.27158405e+01, -3.23150898e+00,\n",
              "        6.74363583e+01, -1.85155294e+01, -8.31863646e+01,  1.84272057e+01,\n",
              "       -7.78455567e+00, -8.83475482e+01, -1.05800958e+02,  1.43240523e+02,\n",
              "        1.13971113e+01,  6.47797054e+01,  2.49870811e+01,  3.90291059e+01,\n",
              "       -3.84815232e+01,  1.33371100e+02,  1.16454059e+02, -2.53757140e+01,\n",
              "        3.99091819e+01, -5.78606616e+00,  3.57893415e+01,  4.39864456e+01,\n",
              "        3.46049292e+01, -1.31133510e+01,  1.61293044e+01, -7.84279274e+01,\n",
              "        1.00200987e+02,  6.88943832e+01, -1.93184401e+01, -1.42064692e+02,\n",
              "       -1.13243874e+02,  1.54565637e+02, -6.73104142e+01,  3.08577892e+01,\n",
              "       -1.30383845e+02, -1.36632845e+01, -3.70892682e+01, -1.58810716e+02,\n",
              "        2.22194099e+01, -9.96466716e+01,  1.11618125e+01,  5.53343435e+01,\n",
              "        2.32822556e+01, -1.56039436e+02, -1.91389109e+01, -1.87346518e+02,\n",
              "       -9.03193170e+01, -6.37264317e+01, -1.65507688e+01,  2.53228441e+01,\n",
              "        1.09138545e+02,  1.51736684e+02,  4.05721503e+01,  9.65158339e+01,\n",
              "        1.60617150e+02, -1.32370507e+01, -5.29498486e+01,  1.13605450e+02,\n",
              "       -1.07120001e+01, -1.21354348e+02,  1.87302792e+02, -1.50021009e+02,\n",
              "       -9.58918497e+01,  1.09535598e+02,  3.84936382e+01,  9.95789018e+01,\n",
              "       -9.61209506e+00,  8.42004301e+00, -1.22670136e+02,  1.56562045e+01])"
            ]
          },
          "metadata": {},
          "execution_count": 25
        }
      ]
    },
    {
      "cell_type": "code",
      "source": [
        "plt.scatter(x,y)\n",
        "plt.plot(x, lireg.predict(x), color='red', linewidth=3)\n",
        "plt.show;"
      ],
      "metadata": {
        "colab": {
          "base_uri": "https://localhost:8080/",
          "height": 265
        },
        "id": "LisjlxOaZJTB",
        "outputId": "b4ea56aa-e87c-40e6-e4ca-bc8b6f85fabd"
      },
      "execution_count": 27,
      "outputs": [
        {
          "output_type": "display_data",
          "data": {
            "text/plain": [
              "<Figure size 432x288 with 1 Axes>"
            ],
            "image/png": "[encoded data removed]"
          },
          "metadata": {
            "needs_background": "light"
          }
        }
      ]
    },
    {
      "cell_type": "code",
      "source": [],
      "metadata": {
        "id": "YH7UjfeLZoZY"
      },
      "execution_count": null,
      "outputs": []
    }
  ]
}